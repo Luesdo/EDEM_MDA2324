{
 "cells": [
  {
   "cell_type": "markdown",
   "metadata": {},
   "source": [
    "<font color=\"#CA3532\"><h1 align=\"left\">Master Data Analytics. EDEM.</h1></font>\n",
    "<font color=\"#6E6E6E\"><h2 align=\"left\">Herramientas MLOps.</h2></font> \n",
    "<font color=\"#6E6E6E\"><h2 align=\"left\">Tarea 1. Pipeline entrenamiento de modelos.</h2></font> \n",
    "#### Daniel Ruiz Riquelme\n",
    "https://docs.metaflow.org/metaflow/basics"
   ]
  },
  {
   "attachments": {},
   "cell_type": "markdown",
   "metadata": {},
   "source": [
    "##  Install dependencies"
   ]
  },
  {
   "cell_type": "code",
   "execution_count": 17,
   "metadata": {},
   "outputs": [],
   "source": [
    "#!pip install metaflow\n",
    "#!pip install scikit-learn\n",
    "#!pip install pandas"
   ]
  },
  {
   "attachments": {},
   "cell_type": "markdown",
   "metadata": {},
   "source": [
    "## Set username"
   ]
  },
  {
   "cell_type": "code",
   "execution_count": 18,
   "metadata": {},
   "outputs": [],
   "source": [
    "# Set username for workflows\n",
    "import os\n",
    "os.environ[\"USERNAME\"] = \"pabloivorra\""
   ]
  },
  {
   "cell_type": "code",
   "execution_count": 20,
   "metadata": {},
   "outputs": [
    {
     "name": "stdout",
     "output_type": "stream",
     "text": [
      "Overwriting metaflow_trainingflow.py\n"
     ]
    }
   ],
   "source": [
    "%%writefile metaflow_trainingflow.py\n",
    "from metaflow import FlowSpec, Parameter, step\n",
    "\n",
    "class TrainingFlow(FlowSpec):\n",
    "    # Define the parameters for the flow\n",
    "    max_depth = Parameter('max_depth', default=2, help='Max depth of the random forest classifier')\n",
    "    n_estimators = Parameter('n_estimators', default=100, help='Number of estimators for the random forest classifier')\n",
    "    random_state = Parameter('random_state', default=0, help='Random state for the random forest classifier')\n",
    "    \n",
    "    @step\n",
    "    def start(self):\n",
    "        # Start the flow\n",
    "        self.next(self.ingest_data)\n",
    "        \n",
    "    @step\n",
    "    def ingest_data(self):\n",
    "        from sklearn.datasets import load_iris\n",
    "    \n",
    "        # Load the iris dataset\n",
    "        iris = load_iris()\n",
    "        \n",
    "        self.X = iris.data\n",
    "        self.y = iris.target\n",
    "        \n",
    "        self.next(self.split_data)\n",
    "\n",
    "    @step\n",
    "    def split_data(self):\n",
    "        from sklearn.model_selection import train_test_split\n",
    "        # Split the data into train and test\n",
    "        self.X_train, self.X_test, self.y_train, self.y_test = train_test_split(self.X, self.y, test_size=0.2, random_state=42)\n",
    "        self.next(self.train)\n",
    "\n",
    "    @step\n",
    "    def train(self):\n",
    "        from sklearn.ensemble import RandomForestClassifier\n",
    "        # Train the model\n",
    "        self.rf = RandomForestClassifier(max_depth=self.max_depth, n_estimators=self.n_estimators, random_state=self.random_state)\n",
    "        self.rf.fit(self.X_train, self.y_train)\n",
    "        self.next(self.show_metrics)\n",
    "\n",
    "    @step\n",
    "    def show_metrics(self):\n",
    "        from sklearn.metrics import classification_report\n",
    "        # Print some metrics\n",
    "        y_pred = self.rf.predict(self.X_test)\n",
    "        print(classification_report(self.y_test, y_pred))\n",
    "        self.next(self.register_model)\n",
    "        \n",
    "    @step\n",
    "    def register_model(self):\n",
    "        import pickle\n",
    "        # Save the model in a pickle file in local storage\n",
    "        with open(\"model.pkl\", \"wb\") as f:\n",
    "            pickle.dump(self.rf, f)\n",
    "        self.next(self.end)\n",
    "        \n",
    "    @step\n",
    "    def end(self):\n",
    "        pass\n",
    "    \n",
    "if __name__ == '__main__':\n",
    "    TrainingFlow()\n",
    "      \n"
   ]
  },
  {
   "cell_type": "code",
   "execution_count": 21,
   "metadata": {},
   "outputs": [
    {
     "name": "stdout",
     "output_type": "stream",
     "text": [
      "Traceback (most recent call last):\n",
      "  File \"/Users/paulglobal/Desktop/EDEM_MDA2324/Alumnos/FS/Pablo_Ivorra/MLOPS/Deployment/pipelines/metaflow_trainingflow.py\", line 1, in <module>\n",
      "    from metaflow import FlowSpec, Parameter, step\n",
      "ModuleNotFoundError: No module named 'metaflow'\n"
     ]
    }
   ],
   "source": [
    "!python metaflow_trainingflow.py run --max_depth 2 --n_estimators 100 --random_state 0"
   ]
  }
 ],
 "metadata": {
  "kernelspec": {
   "display_name": "productionalization",
   "language": "python",
   "name": "python3"
  },
  "language_info": {
   "codemirror_mode": {
    "name": "ipython",
    "version": 3
   },
   "file_extension": ".py",
   "mimetype": "text/x-python",
   "name": "python",
   "nbconvert_exporter": "python",
   "pygments_lexer": "ipython3",
   "version": "3.10.11"
  },
  "orig_nbformat": 4,
  "vscode": {
   "interpreter": {
    "hash": "5ed29f95de7cc8ac0f18a32ccae5fbddd3dba9010e060d505f2ebe31fc64f080"
   }
  }
 },
 "nbformat": 4,
 "nbformat_minor": 2
}
