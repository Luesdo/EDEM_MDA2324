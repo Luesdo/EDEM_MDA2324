{
  "cells": [
    {
      "cell_type": "markdown",
      "metadata": {
        "id": "xr0fIzfVX-m2"
      },
      "source": [
        "# ENTREGABLE 5"
      ]
    },
    {
      "cell_type": "markdown",
      "metadata": {
        "id": "XkFBXXIeYBul"
      },
      "source": [
        "# INSTRUCCIONES"
      ]
    },
    {
      "cell_type": "markdown",
      "metadata": {
        "id": "Qy5ok3zYYDsU"
      },
      "source": [
        "Entrenar un perceptrón para que sea capaz de simular el comportamiento de una puerta AND.\n",
        "\n",
        "- Generar 5000 muestras aleatorias de entrenamiento, 500 de validación y 500 de test.\n",
        "\n",
        "\n",
        "*Pistas*\n",
        "\n",
        " * w es un vector que corresponde al valor de los pesos de cada neurona de entrada\n",
        " * b es un valor que corresponde al bias del modelo\n",
        " * El valor de la suma ponderada será el valor resultante de: *(pesos x entradas) + bias*. Para ello utilizar el producto escalar (*np.dot*)\n"
      ]
    },
    {
      "cell_type": "code",
      "execution_count": 44,
      "metadata": {
        "id": "E94bkgYT0jcE"
      },
      "outputs": [],
      "source": [
        "import numpy as np\n",
        "from tqdm import tqdm\n",
        "import matplotlib.pyplot as plt\n",
        "from sklearn.metrics import confusion_matrix"
      ]
    },
    {
      "cell_type": "code",
      "execution_count": 45,
      "metadata": {
        "id": "7-EvIbuU0hW3"
      },
      "outputs": [],
      "source": [
        "class Perceptron:\n",
        "    def __init__(self, input_size):\n",
        "        # Inicializamos los pesos y el sesgo de manera aleatoria\n",
        "        self.weights = np.random.rand(input_size)\n",
        "        self.bias = np.random.rand()\n",
        "\n",
        "    def sigmoid(self, x):\n",
        "        # Función de activación: sigmoide\n",
        "        return 1 / (1 + np.exp(-x))\n",
        "\n",
        "    def sigmoid_derivative(self, x):\n",
        "        # Derivada de la función sigmoide\n",
        "        return self.sigmoid(x) * (1 - self.sigmoid(x))\n",
        "\n",
        "    def predict(self, inputs):\n",
        "        # Calculamos la suma ponderada de las entradas\n",
        "        weighted_sum = np.dot(inputs, self.weights) + self.bias\n",
        "        # Aplicamos la función de activación y devolvemos la predicción\n",
        "        return self.sigmoid(weighted_sum)\n",
        "\n",
        "    def train(self, X_train, Y_train, X_validation, Y_validation, learning_rate=0.1, epochs=100):\n",
        "\n",
        "        train_error_by_epoch = []\n",
        "        val_error_by_epoch = []\n",
        "\n",
        "        for epoch in range(epochs):\n",
        "            train_error_acum = 0\n",
        "            for i in range(X_train.shape[0]):\n",
        "\n",
        "                inputs = X_train[i]\n",
        "\n",
        "                # Calcular la predicción del perceptrón\n",
        "                prediction = self.predict(inputs)\n",
        "\n",
        "                # Calcular el error\n",
        "                diferencia = Y_train[i] - prediction\n",
        "                # MSE\n",
        "                error = diferencia ** 2\n",
        "                train_error_acum += error # Aquí se acumula el error\n",
        "\n",
        "                # Actualizar pesos y sesgo mediante el descenso del gradiente\n",
        "                weights_derivative = -2 * diferencia * self.sigmoid_derivative(prediction) * inputs\n",
        "                bias_derivative = -2 * diferencia * self.sigmoid_derivative(prediction)\n",
        "                self.weights = self.weights - learning_rate * weights_derivative\n",
        "                self.bias = self.bias - learning_rate * bias_derivative\n",
        "\n",
        "            # Calcular el error promedio por epoch\n",
        "            train_error_acum = train_error_acum / X_train.shape[0]\n",
        "            train_error_by_epoch.append(train_error_acum)\n",
        "\n",
        "\n",
        "            val_error_acum = 0\n",
        "            for i in range(X_validation.shape[0]):\n",
        "                inputs = X_validation[i]\n",
        "                prediction = self.predict(inputs)\n",
        "\n",
        "                diferencia = Y_validation[i] - prediction\n",
        "                error = diferencia ** 2\n",
        "                train_error_acum += error # Aquí se acumula el error\n",
        "\n",
        "            # Calcular el error promedio de validación por epoch\n",
        "            val_error_acum = val_error_acum / X_validation.shape[0]\n",
        "            val_error_by_epoch.append(val_error_acum)\n",
        "\n",
        "\n",
        "            # Visualización del progreso\n",
        "            if epoch % 10 == 0:\n",
        "                print('epoch:', epoch, '| train error:', train_error_acum, '| val error:', val_error_acum)\n",
        "\n",
        "        # Visualización del error de entrenamiento por epoch\n",
        "        plt.figure()\n",
        "        plt.plot(range(epochs), train_error_by_epoch, '-b')\n",
        "        plt.xlabel('Epoch')\n",
        "        plt.ylabel('Error cuadrático promedio')\n",
        "        plt.title('Error de Entrenamiento por Epoch')\n",
        "        plt.show()\n",
        "\n",
        "        # Visualización del error de validación por epoch\n",
        "        plt.figure()\n",
        "        plt.plot(range(epochs), val_error_by_epoch, '-b')\n",
        "        plt.xlabel('Epoch')\n",
        "        plt.ylabel('Error cuadrático promedio')\n",
        "        plt.title('Error de Validación por Epoch')\n",
        "        plt.show()"
      ]
    },
    {
      "cell_type": "code",
      "execution_count": 46,
      "metadata": {},
      "outputs": [
        {
          "data": {
            "text/plain": [
              "array([[0, 0],\n",
              "       [0, 0],\n",
              "       [1, 0],\n",
              "       ...,\n",
              "       [0, 1],\n",
              "       [0, 0],\n",
              "       [0, 0]])"
            ]
          },
          "execution_count": 46,
          "metadata": {},
          "output_type": "execute_result"
        }
      ],
      "source": [
        "X_train"
      ]
    },
    {
      "cell_type": "code",
      "execution_count": 47,
      "metadata": {
        "id": "Qv73YJdB2cxR"
      },
      "outputs": [
        {
          "name": "stdout",
          "output_type": "stream",
          "text": [
            "X_data (first 5 samples):\n",
            "[[0 1]\n",
            " [0 1]\n",
            " [0 0]\n",
            " [0 1]\n",
            " [1 1]]\n",
            "Y_data (first 5 samples):\n",
            "[0 0 0 0 1]\n"
          ]
        }
      ],
      "source": [
        "# Datos de entrenamiento y validación para la puerta AND\n",
        "N_samples = 1000\n",
        "N_inputs = 2\n",
        "train_size = 0.8\n",
        "N_validation = int((1 - train_size) * N_samples)\n",
        "\n",
        "X_train = np.random.randint(0, 2, (N_samples, N_inputs))\n",
        "Y_train = np.prod(X_train, axis=1)\n",
        "\n",
        "X_validation = X_train[-N_validation:]\n",
        "Y_validation = Y_train[-N_validation:]\n",
        "\n",
        "# Visualizar algunas muestras\n",
        "print(\"X_data (first 5 samples):\")\n",
        "print(X_train[:5])\n",
        "\n",
        "print(\"Y_data (first 5 samples):\")\n",
        "print(Y_train[:5])"
      ]
    },
    {
      "cell_type": "code",
      "execution_count": 48,
      "metadata": {
        "id": "YZ9O9kZr2e1m"
      },
      "outputs": [],
      "source": [
        "# Crear y entrenar el perceptrón para la puerta AND\n",
        "perceptron_and = Perceptron(input_size=N_inputs)"
      ]
    },
    {
      "cell_type": "code",
      "execution_count": 49,
      "metadata": {
        "id": "OATvOY6rZAA-"
      },
      "outputs": [
        {
          "name": "stdout",
          "output_type": "stream",
          "text": [
            "Input: [1 1]\n",
            "Probabilidad: 0.7722280414455953\n",
            "Prediction: 1\n"
          ]
        }
      ],
      "source": [
        "# Comprobar predicción del modelo sin entrenar\n",
        "index = 4\n",
        "\n",
        "th = 0.5\n",
        "print('Input:', X_validation[index])\n",
        "inputs = X_validation[index]\n",
        "prob = perceptron_and.predict(inputs)\n",
        "print('Probabilidad:', prob)\n",
        "print('Prediction:', (prob>th).astype('int'))"
      ]
    },
    {
      "cell_type": "code",
      "execution_count": 50,
      "metadata": {
        "id": "sNClS_hgZDa_"
      },
      "outputs": [
        {
          "name": "stderr",
          "output_type": "stream",
          "text": [
            "100%|██████████| 199/199 [00:00<00:00, 32486.14it/s]"
          ]
        },
        {
          "name": "stdout",
          "output_type": "stream",
          "text": [
            "Matriz de Confusión:\n",
            "[[  0 144]\n",
            " [  0  55]]\n"
          ]
        },
        {
          "name": "stderr",
          "output_type": "stream",
          "text": [
            "\n"
          ]
        }
      ],
      "source": [
        "# Obtenemos un overview de como funciona el modelo sin entrenar de forma aleatoria\n",
        "predictions = []\n",
        "\n",
        "## itera por cada muestra de validación y genera la matriz de confusion\n",
        "for i in tqdm(range(X_validation.shape[0])):\n",
        "    inputs = X_validation[i]\n",
        "    prob = perceptron_and.predict(inputs)\n",
        "    predictions.append((prob>th).astype('int'))\n",
        "\n",
        "# Calcula la matriz de confusión\n",
        "conf_matrix = confusion_matrix(Y_validation, predictions)\n",
        "\n",
        "# Visualiza la matriz de confusión\n",
        "print(\"Matriz de Confusión:\")\n",
        "print(conf_matrix)"
      ]
    },
    {
      "cell_type": "code",
      "execution_count": 51,
      "metadata": {
        "id": "cyDSfwTx2hLW"
      },
      "outputs": [
        {
          "name": "stdout",
          "output_type": "stream",
          "text": [
            "epoch: 0 | train error: 11.048762347693694 | val error: 0.0\n",
            "epoch: 10 | train error: 0.3434677023880844 | val error: 0.0\n",
            "epoch: 20 | train error: 0.10110208513676083 | val error: 0.0\n",
            "epoch: 30 | train error: 0.04735788749264408 | val error: 0.0\n",
            "epoch: 40 | train error: 0.027311688577585556 | val error: 0.0\n",
            "epoch: 50 | train error: 0.017730387704546897 | val error: 0.0\n",
            "epoch: 60 | train error: 0.012425159400253604 | val error: 0.0\n",
            "epoch: 70 | train error: 0.00918574869856595 | val error: 0.0\n",
            "epoch: 80 | train error: 0.007064569211962444 | val error: 0.0\n",
            "epoch: 90 | train error: 0.0056007908854474224 | val error: 0.0\n"
          ]
        },
        {
          "data": {
            "image/png": "[encoded data removed]",
            "text/plain": [
              "<Figure size 640x480 with 1 Axes>"
            ]
          },
          "metadata": {},
          "output_type": "display_data"
        },
        {
          "data": {
            "image/png": "[encoded data removed]",
            "text/plain": [
              "<Figure size 640x480 with 1 Axes>"
            ]
          },
          "metadata": {},
          "output_type": "display_data"
        }
      ],
      "source": [
        "\n",
        "\n",
        "# Train the perceptron\n",
        "perceptron_and.train(X_train, Y_train, X_validation, Y_validation)"
      ]
    },
    {
      "cell_type": "code",
      "execution_count": 52,
      "metadata": {
        "id": "i7x_ASxyZaue"
      },
      "outputs": [
        {
          "name": "stdout",
          "output_type": "stream",
          "text": [
            "Input: [1 1]\n",
            "Probabilidad: 0.9926497327087201\n",
            "Prediction: 1\n"
          ]
        }
      ],
      "source": [
        "# Comprobar ahora la predicción del modelo entrenado en el set de validacion\n",
        "index = 4\n",
        "\n",
        "th = 0.5\n",
        "print('Input:', X_validation[index])\n",
        "inputs = X_validation[index]\n",
        "prob = perceptron_and.predict(inputs)\n",
        "print('Probabilidad:', prob)\n",
        "print('Prediction:', (prob>th).astype('int'))"
      ]
    },
    {
      "cell_type": "code",
      "execution_count": 53,
      "metadata": {
        "id": "3f1Qjl0GeXqF"
      },
      "outputs": [
        {
          "name": "stdout",
          "output_type": "stream",
          "text": [
            "Matriz de Confusión:\n",
            "[[  0 144]\n",
            " [  0  55]]\n"
          ]
        }
      ],
      "source": [
        "# Evaluamos cómo funciona el modelo en el set de validación\n",
        "\n",
        "## itera por cada muestra de validación guardando las predicciones en una lista y genera la matriz de confusion\n",
        "\n",
        "# Calcula la matriz de confusión\n",
        "conf_matrix = confusion_matrix(Y_validation, predictions)\n",
        "\n",
        "# Visualiza la matriz de confusión\n",
        "print(\"Matriz de Confusión:\")\n",
        "print(conf_matrix)"
      ]
    },
    {
      "cell_type": "code",
      "execution_count": 54,
      "metadata": {
        "id": "1vcJGytH2uqj"
      },
      "outputs": [
        {
          "name": "stderr",
          "output_type": "stream",
          "text": [
            "100%|██████████| 1000/1000 [00:00<00:00, 43587.60it/s]"
          ]
        },
        {
          "name": "stdout",
          "output_type": "stream",
          "text": [
            "Matriz de Confusión:[[747   0]\n",
            " [  0 253]]\n"
          ]
        },
        {
          "name": "stderr",
          "output_type": "stream",
          "text": [
            "\n"
          ]
        }
      ],
      "source": [
        "# Evaluamos cómo funciona el modelo en el set de test\n",
        "\n",
        "## Generar el set de test (de forma similar al de validación)\n",
        "predictions = []\n",
        "\n",
        "## itera por cada muestra de test guardando las predicciones en una lista y genera la matriz de confusion\n",
        "for i in tqdm(range(X_test.shape[0])):\n",
        "    inputs = X_test[i]\n",
        "    prob = perceptron_and.predict(inputs)\n",
        "    predictions.append((prob>th).astype('int'))\n",
        "\n",
        "## Calcula la matriz de confusión\n",
        "conf_matrix = confusion_matrix(Y_test, predictions)\n",
        "\n",
        "## Visualiza la matriz de confusión\n",
        "print(f\"Matriz de Confusión:{conf_matrix}\")\n"
      ]
    }
  ],
  "metadata": {
    "colab": {
      "provenance": []
    },
    "kernelspec": {
      "display_name": "Python 3",
      "name": "python3"
    },
    "language_info": {
      "codemirror_mode": {
        "name": "ipython",
        "version": 3
      },
      "file_extension": ".py",
      "mimetype": "text/x-python",
      "name": "python",
      "nbconvert_exporter": "python",
      "pygments_lexer": "ipython3",
      "version": "3.11.7"
    }
  },
  "nbformat": 4,
  "nbformat_minor": 0
}
